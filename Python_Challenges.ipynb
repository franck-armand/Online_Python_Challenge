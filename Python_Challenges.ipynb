{
 "cells": [
  {
   "cell_type": "markdown",
   "metadata": {},
   "source": [
    "### <u>**Challenge 1**</u> \n",
    "> #### *Capital indexes* \n",
    "Write a function named `capital_indexes` . \n",
    "The function takes a single parameter, which is a string.\n",
    "Your function should return a list of all the indexes in \n",
    "the string that have capital letters.\n",
    "\n",
    "For example, calling `capital_indexes(\"HeLlO\")` should return the list `[0, 2, 4]`.\n"
   ]
  },
  {
   "cell_type": "code",
   "execution_count": null,
   "metadata": {},
   "outputs": [],
   "source": [
    "def capital_indexes(msg):\n",
    "    upper_list = []\n",
    "    for idx, letter in enumerate(msg):\n",
    "        if letter.isupper():\n",
    "            upper_list.append(idx)\n",
    "    return upper_list"
   ]
  },
  {
   "cell_type": "markdown",
   "metadata": {},
   "source": [
    "### <u>**Challenge 2**</u> \n",
    "> #### *Middle letter* \n",
    "Write a function named `mid` that takes a string as its parameter.\n",
    "Your function should extract and return the middle letter. \n",
    "If there is no middle letter, your function should return the empty string.\n",
    "\n",
    "For example, `mid(\"abc\")` should return `\"b\"` and `mid(\"aaaa\")` should return `\"\"`."
   ]
  },
  {
   "cell_type": "code",
   "execution_count": null,
   "metadata": {},
   "outputs": [],
   "source": [
    "def mid(msg):\n",
    "    #number even or odd\n",
    "    msg_length = len(msg)\n",
    "\n",
    "    if msg_length % 2 == 0:\n",
    "        return (\"\")\n",
    "\n",
    "    for idx, let in enumerate(msg):\n",
    "        left_i = msg[ :idx]\n",
    "        right_i = msg[idx+1: ]\n",
    "\n",
    "        if len(left_i) == len(right_i):\n",
    "            return msg[idx]\n",
    "\n",
    "\n",
    "#### Another solution\n",
    "def mid(string):\n",
    "    if len(string) % 2 == 0:\n",
    "        return \"\"\n",
    "    return string[len(string)//2]\n"
   ]
  },
  {
   "cell_type": "markdown",
   "metadata": {},
   "source": [
    "### <u>**Challenge 3**</u> \n",
    "> #### *Online status* \n",
    "The aim of this challenge is, given a dictionary of people's online status, to count the number of people who are online.\n",
    "\n",
    "For example, consider the following dictionary:\n",
    "```\n",
    "statuses = {\n",
    "    \"Alice\": \"online\",\n",
    "    \"Bob\": \"offline\",\n",
    "    \"Eve\": \"online\",\n",
    "}\n",
    "```\n",
    "in this case, the number of people online is `2`.\n",
    "\n",
    "Write a function named `online_count` that takes one parameter. \n",
    "The parameter is a dictionary that maps from strings of names to the string `\"online\"` or `\"offline\"`, as seen above.\n",
    "\n",
    "Your function should return the number of people who are online."
   ]
  },
  {
   "cell_type": "code",
   "execution_count": null,
   "metadata": {},
   "outputs": [],
   "source": [
    "def online_count(dic):\n",
    "    count = 0\n",
    "    for key, value in dic.items():\n",
    "        if value == \"online\":\n",
    "            count += 1\n",
    "    return count\n",
    "\n",
    "statuses = {\n",
    "    \"Alice\": \"online\",\n",
    "    \"Bob\": \"offline\",\n",
    "    \"Eve\": \"online\",\n",
    "}"
   ]
  },
  {
   "cell_type": "markdown",
   "metadata": {},
   "source": [
    "### <u>**Challenge 4**</u> \n",
    "> #### *Randomness* \n",
    "\n",
    "Define a function, `random_number`, that takes no parameters. The function must generate a random \n",
    "integer between `1` and `100`, both inclusive, and return it.\n",
    "\n",
    "Calling the function multiple times should (usually) return different numbers.\n",
    "\n",
    "For example, calling `random_number()` some times might first return `42`, then `63`, then `1`."
   ]
  },
  {
   "cell_type": "code",
   "execution_count": null,
   "metadata": {},
   "outputs": [],
   "source": [
    "import random\n",
    "def random_number():\n",
    "    rand_num = random.randint(1,100)\n",
    "    return rand_num\n"
   ]
  },
  {
   "cell_type": "markdown",
   "metadata": {},
   "source": [
    "### <u>**Challenge 5**</u> \n",
    "> #### *Type check* \n",
    "Write a function named `only_ints` that takes two parameters. \n",
    "Your function should return `True` if both parameters are integers, and `False` otherwise.\n",
    "\n",
    "For example, `calling only_ints(1, 2)` should return `True`, while calling only_ints`(\"a\", 1)` should return `False.`"
   ]
  },
  {
   "cell_type": "code",
   "execution_count": null,
   "metadata": {},
   "outputs": [],
   "source": [
    "def only_ints(x,y):\n",
    "    return type(x) == int and type(y) == int"
   ]
  },
  {
   "cell_type": "markdown",
   "metadata": {},
   "source": [
    "### <u>**Challenge 6**</u> \n",
    "> #### *Double letters*\n",
    "The goal of this challenge is to analyze a string to check if it contains two of the same letter in a row. \n",
    "For example, the string `\"hello\"` has l twice in a row, \n",
    "while the string `\"nono\"` does not have two identical letters in a row.\n",
    "\n",
    "Define a function named `double_letters` that takes a single parameter. The parameter is a string. \n",
    "Your function must return `True` if there are two identical letters in a row in the string, and `False` otherwise."
   ]
  },
  {
   "cell_type": "code",
   "execution_count": null,
   "metadata": {},
   "outputs": [],
   "source": [
    "def double_letters(msg):\n",
    "    for i in range(len(msg) - 1):\n",
    "        print(i)\n",
    "        c_w = msg[i]\n",
    "        n_w = msg[i+1]\n",
    "        print(c_w, n_w)\n",
    "        if c_w == n_w:\n",
    "            return True\n",
    "    return False"
   ]
  },
  {
   "cell_type": "markdown",
   "metadata": {},
   "source": [
    "### <u>**Challenge 7**</u> \n",
    "> #### *Adding and removing dots*\n",
    "Write a function named `add_dots` that takes a string and adds `\".\"` in between each letter. \n",
    "For example, calling `add_dots(\"test\")` should return the string `\"t.e.s.t\"`.\n",
    "\n",
    "Then, below the add_dots function, write another function named `remove_dots` that removes all\n",
    "dots from a string. For example, calling `remove_dots(\"t.e.s.t\")` should return `\"test\"`.\n",
    "\n",
    "If both functions are correct, calling `remove_dots(add_dots(string))` should return back the original string for any string.\n",
    "\n",
    "(You may assume that the input to add_dots does not itself contain any dots.)"
   ]
  },
  {
   "cell_type": "code",
   "execution_count": null,
   "metadata": {},
   "outputs": [],
   "source": [
    "def add_dots(msg):\n",
    "    dot = \".\"\n",
    "    msg = dot.join(msg)\n",
    "    return msg\n",
    "\n",
    "def remove_dots(msg):\n",
    "    msg = msg.replace(\".\",\"\")\n",
    "    return msg\n"
   ]
  },
  {
   "cell_type": "markdown",
   "metadata": {},
   "source": [
    "### <u>**Challenge 8**</u> \n",
    "> #### *Counting syllables*\n",
    "Define a function named `count` that takes a single parameter. \n",
    "The parameter is a string. The string will contain a single word divided into syllables by hyphens, such as these:\n",
    "```\n",
    "{\n",
    "    \"ho-tel\"\n",
    "    \"cat\"\n",
    "    \"met-a-phor\"\n",
    "    \"ter-min-a-tor\"\n",
    "}\n",
    "```\n",
    "Your function should count the number of syllables and return it.\n",
    "\n",
    "For example, the call `count(\"ho-tel\")` should return `2`."
   ]
  },
  {
   "cell_type": "code",
   "execution_count": null,
   "metadata": {},
   "outputs": [],
   "source": [
    "def count(msg):\n",
    "\n",
    "    for i in range(len(msg)):\n",
    "        count = msg.count(\"-\")\n",
    "    if count == 0:\n",
    "        return(1)\n",
    "    else:\n",
    "        return(count + 1) "
   ]
  },
  {
   "cell_type": "markdown",
   "metadata": {},
   "source": [
    "### <u>**Challenge 9**</u> \n",
    "> #### *Anagrams*\n",
    "Two strings are anagrams if you can make one from the other by rearranging the letters.\n",
    "\n",
    "Write a function named `is_anagram` that takes two strings as its parameters.\n",
    "Your function should return `True` if the strings are anagrams, and `False` otherwise.\n",
    "\n",
    "For example, the call `is_anagram(\"typhoon\", \"opython\")` should return True while the call `is_anagram(\"Alice\", \"Bob\")` should return False."
   ]
  },
  {
   "cell_type": "code",
   "execution_count": 18,
   "metadata": {},
   "outputs": [],
   "source": [
    "def is_anagram(s1, s2):\n",
    "    if(sorted(s1)== sorted(s2)):\n",
    "        return True\n",
    "    else:\n",
    "        return False"
   ]
  },
  {
   "cell_type": "markdown",
   "metadata": {},
   "source": [
    "### <u>**Challenge 10**</u> \n",
    "> #### *Flatten a list*\n",
    "Write a function that takes a list of lists and flattens it into a one-dimensional list.\n",
    "\n",
    "Name your function `flatten`. It should take a single parameter and return a list.\n",
    "\n",
    "For example, calling:\n",
    "\n",
    "`flatten([[1, 2], [3, 4]])`\n",
    "Should return the list:\n",
    "\n",
    "`[1, 2, 3, 4]`"
   ]
  },
  {
   "cell_type": "code",
   "execution_count": 22,
   "metadata": {},
   "outputs": [],
   "source": [
    "def flatten(list_element):\n",
    "    result = []\n",
    "    for element in list_element:\n",
    "        if type(element) == list:\n",
    "            for item in element:\n",
    "                result.append(item)\n",
    "        else:\n",
    "            result.append(element)\n",
    "    return result\n",
    "\n"
   ]
  },
  {
   "cell_type": "markdown",
   "metadata": {},
   "source": [
    "### <u>**Challenge 11**</u> \n",
    "> #### *Min-maxing* \n",
    "Define a function named `largest_difference` that takes a list of numbers as its only parameter.\n",
    "\n",
    "Your function should compute and return the difference between the largest and smallest number in the list.\n",
    "\n",
    "For example, the call `largest_difference([1, 2, 3])` should return `2` because `3 - 1` is `2`.\n",
    "\n",
    "You may assume that no numbers are smaller or larger than `-100` and `100`."
   ]
  },
  {
   "cell_type": "code",
   "execution_count": null,
   "metadata": {},
   "outputs": [],
   "source": [
    "def largest_difference(my_list):\n",
    "    max_v = 0\n",
    "    min_v = 0\n",
    "    for i in range(len(my_list)):\n",
    "        if my_list[i] > max_v:\n",
    "            max_v = my_list[i]\n",
    "    min_v = min(my_list)\n",
    "    result = max_v - min_v\n",
    "    return(result)"
   ]
  },
  {
   "cell_type": "code",
   "execution_count": null,
   "metadata": {},
   "outputs": [],
   "source": []
  }
 ],
 "metadata": {
  "interpreter": {
   "hash": "f686fdc118ffc4aa3cfc49dea14bffa512884a21c608738156b0199a3b72a68c"
  },
  "kernelspec": {
   "display_name": "Python 3.7.6 64-bit ('base': conda)",
   "language": "python",
   "name": "python3"
  },
  "language_info": {
   "codemirror_mode": {
    "name": "ipython",
    "version": 3
   },
   "file_extension": ".py",
   "mimetype": "text/x-python",
   "name": "python",
   "nbconvert_exporter": "python",
   "pygments_lexer": "ipython3",
   "version": "3.7.6"
  },
  "orig_nbformat": 4
 },
 "nbformat": 4,
 "nbformat_minor": 2
}
