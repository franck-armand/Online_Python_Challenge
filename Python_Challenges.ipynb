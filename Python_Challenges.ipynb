{
 "cells": [
  {
   "cell_type": "markdown",
   "metadata": {},
   "source": [
    "### <u>**Challenge 1**</u> \n",
    "> #### *Capital indexes* \n",
    "Write a function named `capital_indexes` . \n",
    "The function takes a single parameter, which is a string.\n",
    "Your function should return a list of all the indexes in \n",
    "the string that have capital letters.\n",
    "\n",
    "For example, calling `capital_indexes(\"HeLlO\")` should return the list `[0, 2, 4]`.\n"
   ]
  },
  {
   "cell_type": "code",
   "execution_count": null,
   "metadata": {},
   "outputs": [],
   "source": [
    "def capital_indexes(msg):\n",
    "    upper_list = []\n",
    "    for idx, letter in enumerate(msg):\n",
    "        if letter.isupper():\n",
    "            upper_list.append(idx)\n",
    "    return upper_list\n",
    "\n",
    "capital_indexes(\"TEsT\")"
   ]
  },
  {
   "cell_type": "markdown",
   "metadata": {},
   "source": [
    "### <u>**Challenge 2**</u> \n",
    "> #### *Middle letter* \n",
    "Write a function named `mid` that takes a string as its parameter.\n",
    "Your function should extract and return the middle letter. \n",
    "If there is no middle letter, your function should return the empty string.\n",
    "\n",
    "For example, `mid(\"abc\")` should return `\"b\"` and `mid(\"aaaa\")` should return `\"\"`."
   ]
  },
  {
   "cell_type": "code",
   "execution_count": null,
   "metadata": {},
   "outputs": [],
   "source": [
    "def mid(msg):\n",
    "    #number even or odd\n",
    "    msg_length = len(msg)\n",
    "\n",
    "    if msg_length % 2 == 0:\n",
    "        return (\"\")\n",
    "\n",
    "    for idx, let in enumerate(msg):\n",
    "        left_i = msg[ :idx]\n",
    "        right_i = msg[idx+1: ]\n",
    "\n",
    "        if len(left_i) == len(right_i):\n",
    "            return msg[idx]\n",
    "mid(\"abc\")\n",
    "\n",
    "\n",
    "#### Another solution\n",
    "def mid(string):\n",
    "    if len(string) % 2 == 0:\n",
    "        return \"\"\n",
    "    return string[len(string)//2]\n",
    "mid(\"abc\")"
   ]
  }
 ],
 "metadata": {
  "interpreter": {
   "hash": "f686fdc118ffc4aa3cfc49dea14bffa512884a21c608738156b0199a3b72a68c"
  },
  "kernelspec": {
   "display_name": "Python 3.7.6 64-bit ('base': conda)",
   "language": "python",
   "name": "python3"
  },
  "language_info": {
   "codemirror_mode": {
    "name": "ipython",
    "version": 3
   },
   "file_extension": ".py",
   "mimetype": "text/x-python",
   "name": "python",
   "nbconvert_exporter": "python",
   "pygments_lexer": "ipython3",
   "version": "3.7.6"
  },
  "orig_nbformat": 4
 },
 "nbformat": 4,
 "nbformat_minor": 2
}
