{
 "cells": [
  {
   "cell_type": "markdown",
   "metadata": {},
   "source": [
    "### <u>**Challenge 1**</u> \n",
    "> #### *Capital indexes* \n",
    "Write a function named `capital_indexes` . \n",
    "The function takes a single parameter, which is a string.\n",
    "Your function should return a list of all the indexes in \n",
    "the string that have capital letters.\n",
    "\n",
    "For example, calling `capital_indexes(\"HeLlO\")` should return the list `[0, 2, 4]`.\n"
   ]
  },
  {
   "cell_type": "code",
   "execution_count": null,
   "metadata": {},
   "outputs": [],
   "source": [
    "def capital_indexes(msg):\n",
    "    upper_list = []\n",
    "    for idx, letter in enumerate(msg):\n",
    "        if letter.isupper():\n",
    "            upper_list.append(idx)\n",
    "    return upper_list"
   ]
  },
  {
   "cell_type": "markdown",
   "metadata": {},
   "source": [
    "### <u>**Challenge 2**</u> \n",
    "> #### *Middle letter* \n",
    "Write a function named `mid` that takes a string as its parameter.\n",
    "Your function should extract and return the middle letter. \n",
    "If there is no middle letter, your function should return the empty string.\n",
    "\n",
    "For example, `mid(\"abc\")` should return `\"b\"` and `mid(\"aaaa\")` should return `\"\"`."
   ]
  },
  {
   "cell_type": "code",
   "execution_count": null,
   "metadata": {},
   "outputs": [],
   "source": [
    "def mid(msg):\n",
    "    #number even or odd\n",
    "    msg_length = len(msg)\n",
    "\n",
    "    if msg_length % 2 == 0:\n",
    "        return (\"\")\n",
    "\n",
    "    for idx, let in enumerate(msg):\n",
    "        left_i = msg[ :idx]\n",
    "        right_i = msg[idx+1: ]\n",
    "\n",
    "        if len(left_i) == len(right_i):\n",
    "            return msg[idx]\n",
    "\n",
    "\n",
    "#### Another solution\n",
    "def mid(string):\n",
    "    if len(string) % 2 == 0:\n",
    "        return \"\"\n",
    "    return string[len(string)//2]\n"
   ]
  },
  {
   "cell_type": "markdown",
   "metadata": {},
   "source": [
    "### <u>**Challenge 3**</u> \n",
    "> #### *Online status* \n",
    "The aim of this challenge is, given a dictionary of people's online status, to count the number of people who are online.\n",
    "\n",
    "For example, consider the following dictionary:\n",
    "```\n",
    "statuses = {\n",
    "    \"Alice\": \"online\",\n",
    "    \"Bob\": \"offline\",\n",
    "    \"Eve\": \"online\",\n",
    "}\n",
    "```\n",
    "in this case, the number of people online is `2`.\n",
    "\n",
    "Write a function named `online_count` that takes one parameter. \n",
    "The parameter is a dictionary that maps from strings of names to the string `\"online\"` or `\"offline\"`, as seen above.\n",
    "\n",
    "Your function should return the number of people who are online."
   ]
  },
  {
   "cell_type": "code",
   "execution_count": null,
   "metadata": {},
   "outputs": [],
   "source": [
    "def online_count(dic):\n",
    "    count = 0\n",
    "    for key, value in dic.items():\n",
    "        if value == \"online\":\n",
    "            count += 1\n",
    "    return count\n",
    "\n",
    "statuses = {\n",
    "    \"Alice\": \"online\",\n",
    "    \"Bob\": \"offline\",\n",
    "    \"Eve\": \"online\",\n",
    "}"
   ]
  },
  {
   "cell_type": "markdown",
   "metadata": {},
   "source": [
    "### <u>**Challenge 4**</u> \n",
    "> #### *Randomness* \n",
    "\n",
    "Define a function, `random_number`, that takes no parameters. The function must generate a random \n",
    "integer between `1` and `100`, both inclusive, and return it.\n",
    "\n",
    "Calling the function multiple times should (usually) return different numbers.\n",
    "\n",
    "For example, calling `random_number()` some times might first return `42`, then `63`, then `1`."
   ]
  },
  {
   "cell_type": "code",
   "execution_count": null,
   "metadata": {},
   "outputs": [],
   "source": [
    "import random\n",
    "def random_number():\n",
    "    rand_num = random.randint(1,100)\n",
    "    return rand_num\n"
   ]
  },
  {
   "cell_type": "markdown",
   "metadata": {},
   "source": [
    "### <u>**Challenge 5**</u> \n",
    "> #### *Type check* \n",
    "Write a function named `only_ints` that takes two parameters. \n",
    "Your function should return `True` if both parameters are integers, and `False` otherwise.\n",
    "\n",
    "For example, `calling only_ints(1, 2)` should return `True`, while calling only_ints`(\"a\", 1)` should return `False.`"
   ]
  },
  {
   "cell_type": "code",
   "execution_count": null,
   "metadata": {},
   "outputs": [],
   "source": [
    "def only_ints(x,y):\n",
    "    return type(x) == int and type(y) == int"
   ]
  },
  {
   "cell_type": "markdown",
   "metadata": {},
   "source": [
    "### <u>**Challenge 6**</u> \n",
    "> #### *Double letters*\n",
    "The goal of this challenge is to analyze a string to check if it contains two of the same letter in a row. \n",
    "For example, the string `\"hello\"` has l twice in a row, \n",
    "while the string `\"nono\"` does not have two identical letters in a row.\n",
    "\n",
    "Define a function named `double_letters` that takes a single parameter. The parameter is a string. \n",
    "Your function must return `True` if there are two identical letters in a row in the string, and `False` otherwise."
   ]
  },
  {
   "cell_type": "code",
   "execution_count": null,
   "metadata": {},
   "outputs": [],
   "source": [
    "def double_letters(msg):\n",
    "    for i in range(len(msg) - 1):\n",
    "        print(i)\n",
    "        c_w = msg[i]\n",
    "        n_w = msg[i+1]\n",
    "        print(c_w, n_w)\n",
    "        if c_w == n_w:\n",
    "            return True\n",
    "    return False"
   ]
  },
  {
   "cell_type": "markdown",
   "metadata": {},
   "source": [
    "### <u>**Challenge 7**</u> \n",
    "> #### *Adding and removing dots*\n",
    "Write a function named `add_dots` that takes a string and adds `\".\"` in between each letter. \n",
    "For example, calling `add_dots(\"test\")` should return the string `\"t.e.s.t\"`.\n",
    "\n",
    "Then, below the add_dots function, write another function named `remove_dots` that removes all\n",
    "dots from a string. For example, calling `remove_dots(\"t.e.s.t\")` should return `\"test\"`.\n",
    "\n",
    "If both functions are correct, calling `remove_dots(add_dots(string))` should return back the original string for any string.\n",
    "\n",
    "(You may assume that the input to add_dots does not itself contain any dots.)"
   ]
  },
  {
   "cell_type": "code",
   "execution_count": null,
   "metadata": {},
   "outputs": [],
   "source": [
    "def add_dots(msg):\n",
    "    dot = \".\"\n",
    "    msg = dot.join(msg)\n",
    "    return msg\n",
    "\n",
    "def remove_dots(msg):\n",
    "    msg = msg.replace(\".\",\"\")\n",
    "    return msg\n"
   ]
  },
  {
   "cell_type": "markdown",
   "metadata": {},
   "source": [
    "### <u>**Challenge 8**</u> \n",
    "> #### *Counting syllables*\n",
    "Define a function named `count` that takes a single parameter. \n",
    "The parameter is a string. The string will contain a single word divided into syllables by hyphens, such as these:\n",
    "```\n",
    "{\n",
    "    \"ho-tel\"\n",
    "    \"cat\"\n",
    "    \"met-a-phor\"\n",
    "    \"ter-min-a-tor\"\n",
    "}\n",
    "```\n",
    "Your function should count the number of syllables and return it.\n",
    "\n",
    "For example, the call `count(\"ho-tel\")` should return `2`."
   ]
  },
  {
   "cell_type": "code",
   "execution_count": null,
   "metadata": {},
   "outputs": [],
   "source": [
    "def count(msg):\n",
    "\n",
    "    for i in range(len(msg)):\n",
    "        count = msg.count(\"-\")\n",
    "    if count == 0:\n",
    "        return(1)\n",
    "    else:\n",
    "        return(count + 1) "
   ]
  },
  {
   "cell_type": "markdown",
   "metadata": {},
   "source": [
    "### <u>**Challenge 9**</u> \n",
    "> #### *Anagrams*\n",
    "Two strings are anagrams if you can make one from the other by rearranging the letters.\n",
    "\n",
    "Write a function named `is_anagram` that takes two strings as its parameters.\n",
    "Your function should return `True` if the strings are anagrams, and `False` otherwise.\n",
    "\n",
    "For example, the call `is_anagram(\"typhoon\", \"opython\")` should return True while the call `is_anagram(\"Alice\", \"Bob\")` should return False."
   ]
  },
  {
   "cell_type": "code",
   "execution_count": 18,
   "metadata": {},
   "outputs": [],
   "source": [
    "def is_anagram(s1, s2):\n",
    "    if(sorted(s1)== sorted(s2)):\n",
    "        return True\n",
    "    else:\n",
    "        return False"
   ]
  },
  {
   "cell_type": "markdown",
   "metadata": {},
   "source": [
    "### <u>**Challenge 10**</u> \n",
    "> #### *Flatten a list*\n",
    "Write a function that takes a list of lists and flattens it into a one-dimensional list.\n",
    "\n",
    "Name your function `flatten`. It should take a single parameter and return a list.\n",
    "\n",
    "For example, calling:\n",
    "\n",
    "`flatten([[1, 2], [3, 4]])`\n",
    "Should return the list:\n",
    "\n",
    "`[1, 2, 3, 4]`"
   ]
  },
  {
   "cell_type": "code",
   "execution_count": 22,
   "metadata": {},
   "outputs": [],
   "source": [
    "def flatten(list_element):\n",
    "    result = []\n",
    "    for element in list_element:\n",
    "        if type(element) == list:\n",
    "            for item in element:\n",
    "                result.append(item)\n",
    "        else:\n",
    "            result.append(element)\n",
    "    return result\n",
    "\n"
   ]
  },
  {
   "cell_type": "markdown",
   "metadata": {},
   "source": [
    "### <u>**Challenge 11**</u> \n",
    "> #### *Min-maxing* \n",
    "Define a function named `largest_difference` that takes a list of numbers as its only parameter.\n",
    "\n",
    "Your function should compute and return the difference between the largest and smallest number in the list.\n",
    "\n",
    "For example, the call `largest_difference([1, 2, 3])` should return `2` because `3 - 1` is `2`.\n",
    "\n",
    "You may assume that no numbers are smaller or larger than `-100` and `100`."
   ]
  },
  {
   "cell_type": "code",
   "execution_count": null,
   "metadata": {},
   "outputs": [],
   "source": [
    "def largest_difference(my_list):\n",
    "    max_v = 0\n",
    "    min_v = 0\n",
    "    for i in range(len(my_list)):\n",
    "        if my_list[i] > max_v:\n",
    "            max_v = my_list[i]\n",
    "    min_v = min(my_list)\n",
    "    result = max_v - min_v\n",
    "    return(result)"
   ]
  },
  {
   "cell_type": "markdown",
   "metadata": {},
   "source": [
    "### <u>**Challenge 12**</u> \n",
    "> #### *Divisible by 3*\n",
    "Define a function named `div_3` that returns `True` if its single integer parameter is divisible by 3 and `False` otherwise.\n",
    "\n",
    "For example, `div_3(6)` is `True` because `6/3` does not leave any remainder. However `div_3(5)` is False because `5/3` leaves `2` as a remainder."
   ]
  },
  {
   "cell_type": "code",
   "execution_count": null,
   "metadata": {},
   "outputs": [],
   "source": [
    "def div_3(number):\n",
    "    return number%3 == 0"
   ]
  },
  {
   "cell_type": "markdown",
   "metadata": {},
   "source": [
    "### <u>**Challenge 13**</u> \n",
    "> #### *Tic tac toe input* \n",
    "Here's the backstory for this challenge: imagine you're writing a tic-tac-toe game, where the board looks like this:\n",
    "```\n",
    "| 1:  X | O | X\n",
    "|  -----------\n",
    "|2:    |   |  \n",
    "|  -----------\n",
    "|3:  O |   |  \n",
    "              \n",
    "|    A |  B | C|\n",
    "```\n",
    "The board is represented as a 2D list:\n",
    "```\n",
    "board = [\n",
    "    [\"X\", \"O\", \"X\"],\n",
    "    [\" \", \" \", \" \"],\n",
    "    [\"O\", \" \", \" \"],\n",
    "]\n",
    "```\n",
    "Imagine if your user enters `\"C1\"` and you need to see if there's an `X` or `O` in that cell on the board. To do so, you need to translate from the string `\"C1\"` to row `0` and column `2` so that you can check `board[row][column]`.\n",
    "\n",
    "Your task is to write a function that can translate from strings of length `2` to a tuple `(row, column)`. Name your function `get_row_col`; it should take a single parameter which is a string of length 2 consisting of an uppercase letter and a digit.\n",
    "\n",
    "For example, calling `get_row_col(\"A3\")` should return the tuple `(2, 0)` because `A3` corresponds to the row at index `2` and column at index `0` in the board."
   ]
  },
  {
   "cell_type": "code",
   "execution_count": null,
   "metadata": {},
   "outputs": [],
   "source": [
    "board = [\n",
    "    [\"X\", \"O\", \"X\"], # 1\n",
    "    [\" \", \" \", \" \"], # 2\n",
    "    [\"O\", \" \", \" \"], # 3\n",
    "]   # A    B    C\n",
    "\n",
    "def get_row_col(user_input):\n",
    "   user_input = user_input.upper()\n",
    "   column = user_input[0]\n",
    "   row = int(user_input[1]) - 1\n",
    "\n",
    "   let_to_num_dic = {'A':0, 'B':1, 'C':2}\n",
    "\n",
    "   for key in let_to_num_dic:\n",
    "       if key == column:\n",
    "           column = let_to_num_dic[key]\n",
    "           return(row, column)\n"
   ]
  },
  {
   "cell_type": "markdown",
   "metadata": {},
   "source": [
    "### <u>**Challenge 14**</u> \n",
    "> #### *Palindrome* \n",
    "A string is a palindrome when it is the same when read backwards.\n",
    "\n",
    "For example, the string `\"bob\"` is a palindrome. So is `\"abba\"`. But the string `\"abcd\"` is not a palindrome, because `\"abcd\" != \"dcba\"`.\n",
    "\n",
    "Write a function named `palindrome` that takes a single string as its parameter. Your function should return `True` if the string is a palindrome, and `False` otherwise."
   ]
  },
  {
   "cell_type": "code",
   "execution_count": null,
   "metadata": {},
   "outputs": [],
   "source": [
    "def palindrome(text):\n",
    "    return text[::-1] == text"
   ]
  },
  {
   "cell_type": "markdown",
   "metadata": {},
   "source": [
    "### <u>**Challenge 15**</u> \n",
    "> #### *Up and down* \n",
    "Define a function named `up_down` that takes a single number as its parameter. Your function return a tuple containing two numbers; the first should be one lower than the parameter, and the second should be one higher.\n",
    "\n",
    "For example, calling `up_down(5)` should return `(4, 6)`."
   ]
  },
  {
   "cell_type": "code",
   "execution_count": null,
   "metadata": {},
   "outputs": [],
   "source": [
    "def up_down(num):\n",
    "    down = num - 1\n",
    "    up = num + 1\n",
    "    return(down, up)"
   ]
  },
  {
   "cell_type": "markdown",
   "metadata": {},
   "source": [
    "### <u>**Challenge 16**</u> \n",
    "> #### *Consecutive zeros* \n",
    "The goal of this challenge is to analyze a binary string consisting of only zeros and ones. Your code should find the biggest number of consecutive zeros in the string. For example, given the string:\n",
    "\n",
    "`\"1001101000110\"`\n",
    "The biggest number of consecutive zeros is 3.\n",
    "\n",
    "Define a function named `consecutive_zeros` that takes a single parameter, which is the string of zeros and ones. Your function should return the number described above."
   ]
  },
  {
   "cell_type": "code",
   "execution_count": null,
   "metadata": {},
   "outputs": [],
   "source": [
    "def consecutive_zeros(binary):\n",
    "    split_binary = binary.split(\"1\")\n",
    "    map_binary = map(len, split_binary)\n",
    "    return max(map_binary)\n",
    "\n",
    "binary = \"100110100011010101000100001\"\n",
    "print(consecutive_zeros(binary))"
   ]
  }
 ],
 "metadata": {
  "interpreter": {
   "hash": "f686fdc118ffc4aa3cfc49dea14bffa512884a21c608738156b0199a3b72a68c"
  },
  "kernelspec": {
   "display_name": "Python 3.7.6 64-bit ('base': conda)",
   "language": "python",
   "name": "python3"
  },
  "language_info": {
   "codemirror_mode": {
    "name": "ipython",
    "version": 3
   },
   "file_extension": ".py",
   "mimetype": "text/x-python",
   "name": "python",
   "nbconvert_exporter": "python",
   "pygments_lexer": "ipython3",
   "version": "3.7.6"
  },
  "orig_nbformat": 4
 },
 "nbformat": 4,
 "nbformat_minor": 2
}
